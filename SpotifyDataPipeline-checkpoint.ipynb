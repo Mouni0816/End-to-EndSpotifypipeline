{
 "cells": [
  {
   "cell_type": "code",
   "execution_count": 1,
   "id": "1b9384a6",
   "metadata": {},
   "outputs": [
    {
     "name": "stdout",
     "output_type": "stream",
     "text": [
      "Collecting spotipy\n",
      "  Downloading spotipy-2.23.0-py3-none-any.whl (29 kB)\n",
      "Collecting redis>=3.5.3\n",
      "  Downloading redis-4.5.5-py3-none-any.whl (240 kB)\n",
      "     ------------------------------------- 240.3/240.3 kB 14.4 MB/s eta 0:00:00\n",
      "Requirement already satisfied: urllib3>=1.26.0 in c:\\users\\mounish badireddi\\anaconda3\\lib\\site-packages (from spotipy) (1.26.14)\n",
      "Requirement already satisfied: requests>=2.25.0 in c:\\users\\mounish badireddi\\anaconda3\\lib\\site-packages (from spotipy) (2.28.1)\n",
      "Requirement already satisfied: six>=1.15.0 in c:\\users\\mounish badireddi\\anaconda3\\lib\\site-packages (from spotipy) (1.16.0)\n",
      "Collecting async-timeout>=4.0.2\n",
      "  Downloading async_timeout-4.0.2-py3-none-any.whl (5.8 kB)\n",
      "Requirement already satisfied: idna<4,>=2.5 in c:\\users\\mounish badireddi\\anaconda3\\lib\\site-packages (from requests>=2.25.0->spotipy) (3.4)\n",
      "Requirement already satisfied: certifi>=2017.4.17 in c:\\users\\mounish badireddi\\anaconda3\\lib\\site-packages (from requests>=2.25.0->spotipy) (2022.12.7)\n",
      "Requirement already satisfied: charset-normalizer<3,>=2 in c:\\users\\mounish badireddi\\anaconda3\\lib\\site-packages (from requests>=2.25.0->spotipy) (2.0.4)\n",
      "Installing collected packages: async-timeout, redis, spotipy\n",
      "Successfully installed async-timeout-4.0.2 redis-4.5.5 spotipy-2.23.0\n"
     ]
    }
   ],
   "source": [
    "\n",
    "#!pip install spotipy"
   ]
  },
  {
   "cell_type": "code",
   "execution_count": 67,
   "id": "4adec2c6",
   "metadata": {},
   "outputs": [],
   "source": [
    "import spotipy \n",
    "from spotipy.oauth2 import SpotifyClientCredentials\n",
    "import pandas as pd"
   ]
  },
  {
   "cell_type": "code",
   "execution_count": 4,
   "id": "fc5a1c96",
   "metadata": {},
   "outputs": [],
   "source": [
    "#authentify api credentials\n",
    "#used for authentification\n",
    "client_credentials_manager=SpotifyClientCredentials(client_id='c275c8875b3745928da2e6e73ab03f5b',client_secret=\"bb0ca4d4effa4fbc9fd1d67db68eb256\")"
   ]
  },
  {
   "cell_type": "code",
   "execution_count": 5,
   "id": "46f18060",
   "metadata": {},
   "outputs": [],
   "source": [
    "#used for authorisation\n",
    "sp=spotipy.Spotify(client_credentials_manager=client_credentials_manager)"
   ]
  },
  {
   "cell_type": "code",
   "execution_count": 8,
   "id": "91d050fc",
   "metadata": {},
   "outputs": [],
   "source": [
    "playlist_link='https://open.spotify.com/playlist/37i9dQZEVXbNG2KDcFcKOF'"
   ]
  },
  {
   "cell_type": "code",
   "execution_count": 11,
   "id": "523dd3f0",
   "metadata": {
    "scrolled": true
   },
   "outputs": [],
   "source": [
    "playlist_URL=playlist_link.split('/')[-1]"
   ]
  },
  {
   "cell_type": "code",
   "execution_count": 13,
   "id": "3a9fb6ee",
   "metadata": {},
   "outputs": [],
   "source": [
    "data=sp.playlist_tracks(playlist_URL)"
   ]
  },
  {
   "cell_type": "code",
   "execution_count": 37,
   "id": "3d2a8f07",
   "metadata": {},
   "outputs": [
    {
     "data": {
      "text/plain": [
       "16"
      ]
     },
     "execution_count": 37,
     "metadata": {},
     "output_type": "execute_result"
    }
   ],
   "source": [
    "#three different tables to get album, artist and song info"
   ]
  },
  {
   "cell_type": "code",
   "execution_count": 49,
   "id": "331e116c",
   "metadata": {},
   "outputs": [],
   "source": [
    "album_list=[]\n",
    "for row in data['items']:\n",
    "    album_id=row['track']['album']['id']\n",
    "    album_name=row['track']['album']['name']\n",
    "    album_release_date=row['track']['album']['release_date']\n",
    "    album_total_tracks=row['track']['album']['total_tracks']\n",
    "    album_url=row['track']['album']['external_urls']['spotify']\n",
    "    album_elements={'album_id':album_id,'name':album_name,'release_date':album_release_date,'total_tracks':album_total_tracks,'url':album_url}\n",
    "    album_list.append(album_elements)\n"
   ]
  },
  {
   "cell_type": "code",
   "execution_count": 60,
   "id": "3eb4cbfb",
   "metadata": {},
   "outputs": [],
   "source": [
    "artist_list=[]\n",
    "for row in data['items']:\n",
    "    for key, values in row.items():\n",
    "        if key =='track':\n",
    "            for artist in values['artists']:\n",
    "                artist_dist={'artist_id':artist['id'],'artist_name':artist['name'],'external_urls':artist['external_urls']['spotify']}\n",
    "                artist_list.append(artist_dist)"
   ]
  },
  {
   "cell_type": "code",
   "execution_count": 65,
   "id": "2d271e6f",
   "metadata": {},
   "outputs": [],
   "source": [
    "song_list=[]\n",
    "for row in data['items']:\n",
    "    song_id=row['track']['id']\n",
    "    song_name=row['track']['name']\n",
    "    song_duration=row['track']['duration_ms']\n",
    "    song_url=row['track']['external_urls']['spotify']\n",
    "    song_popularity=row['track']['popularity']\n",
    "    song_added=row['added_at']\n",
    "    album_id=row['track']['album']['id']\n",
    "    artist_id=row['track']['album']['artists'][0]['id']\n",
    "    song_element={'song_id':song_id,'song_name':song_name,'duration_ms':song_duration,'url':song_url,'popularity':song_popularity,'song_added':song_added,'album_id':album_id,'artist_id':artist_id}\n",
    "    song_list.append(song_element)"
   ]
  },
  {
   "cell_type": "code",
   "execution_count": 69,
   "id": "d8f85d78",
   "metadata": {},
   "outputs": [],
   "source": [
    "album_df=pd.DataFrame.from_dict(album_list)"
   ]
  },
  {
   "cell_type": "code",
   "execution_count": 74,
   "id": "86604b67",
   "metadata": {},
   "outputs": [],
   "source": [
    "album_df=album_df.drop_duplicates(subset='album_id')"
   ]
  },
  {
   "cell_type": "code",
   "execution_count": 75,
   "id": "92a02941",
   "metadata": {},
   "outputs": [],
   "source": [
    "artist_df=pd.DataFrame.from_dict(artist_list)\n",
    "artist_df=artist_df.drop_duplicates(subset='artist_id')"
   ]
  },
  {
   "cell_type": "code",
   "execution_count": 76,
   "id": "846860e5",
   "metadata": {},
   "outputs": [],
   "source": [
    "song_df=pd.DataFrame.from_dict(song_list)\n",
    "song_df=song_df.drop_duplicates(subset='song_id')"
   ]
  },
  {
   "cell_type": "code",
   "execution_count": 78,
   "id": "f3f29789",
   "metadata": {},
   "outputs": [
    {
     "name": "stderr",
     "output_type": "stream",
     "text": [
      "C:\\Users\\Mounish BADIREDDI\\AppData\\Local\\Temp\\ipykernel_40232\\2872750221.py:1: SettingWithCopyWarning: \n",
      "A value is trying to be set on a copy of a slice from a DataFrame.\n",
      "Try using .loc[row_indexer,col_indexer] = value instead\n",
      "\n",
      "See the caveats in the documentation: https://pandas.pydata.org/pandas-docs/stable/user_guide/indexing.html#returning-a-view-versus-a-copy\n",
      "  album_df['release_date']=pd.to_datetime(album_df['release_date'])\n"
     ]
    }
   ],
   "source": [
    "album_df['release_date']=pd.to_datetime(album_df['release_date'])"
   ]
  },
  {
   "cell_type": "code",
   "execution_count": 79,
   "id": "b6418394",
   "metadata": {},
   "outputs": [],
   "source": [
    "song_df['song_added']=pd.to_datetime(song_df['song_added'])"
   ]
  }
 ],
 "metadata": {
  "kernelspec": {
   "display_name": "Python 3 (ipykernel)",
   "language": "python",
   "name": "python3"
  },
  "language_info": {
   "codemirror_mode": {
    "name": "ipython",
    "version": 3
   },
   "file_extension": ".py",
   "mimetype": "text/x-python",
   "name": "python",
   "nbconvert_exporter": "python",
   "pygments_lexer": "ipython3",
   "version": "3.10.9"
  }
 },
 "nbformat": 4,
 "nbformat_minor": 5
}
